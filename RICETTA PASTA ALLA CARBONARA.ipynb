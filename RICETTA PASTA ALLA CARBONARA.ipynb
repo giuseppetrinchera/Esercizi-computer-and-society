{
 "cells": [
  {
   "cell_type": "markdown",
   "metadata": {},
   "source": [
    "# SPAGHETTI ALLA CARBONARA\n",
    "## ricetta per 1a persona\n",
    "\n"
   ]
  },
  {
   "cell_type": "markdown",
   "metadata": {},
   "source": [
    "- spaghetti _100g_\n",
    "-  tuorlo d'uovo _1_\n",
    "- guanciale _70g_\n",
    "- sale e pepe\n",
    "- pecorino romano _10g_"
   ]
  },
  {
   "cell_type": "code",
   "execution_count": 5,
   "metadata": {},
   "outputs": [
    {
     "data": {
      "text/plain": [
       "280"
      ]
     },
     "execution_count": 5,
     "metadata": {},
     "output_type": "execute_result"
    }
   ],
   "source": [
    "n_persone = 4\n",
    "dose_guanciale_a_persona = 70 \n",
    "dose_guanciale = n_persone*dose_guanciale_a_persona\n",
    "dose_guanciale"
   ]
  },
  {
   "cell_type": "code",
   "execution_count": 6,
   "metadata": {},
   "outputs": [
    {
     "data": {
      "text/plain": [
       "400"
      ]
     },
     "execution_count": 6,
     "metadata": {},
     "output_type": "execute_result"
    }
   ],
   "source": [
    "n_persone = 4\n",
    "dose_spaghetti_a_persona = 100\n",
    "dose_spaghetti = n_persone*dose_spaghetti_a_persona\n",
    "dose_spaghetti"
   ]
  },
  {
   "cell_type": "code",
   "execution_count": null,
   "metadata": {},
   "outputs": [],
   "source": []
  }
 ],
 "metadata": {
  "kernelspec": {
   "display_name": "Python 3",
   "language": "python",
   "name": "python3"
  },
  "language_info": {
   "codemirror_mode": {
    "name": "ipython",
    "version": 3
   },
   "file_extension": ".py",
   "mimetype": "text/x-python",
   "name": "python",
   "nbconvert_exporter": "python",
   "pygments_lexer": "ipython3",
   "version": "3.8.3"
  }
 },
 "nbformat": 4,
 "nbformat_minor": 4
}
